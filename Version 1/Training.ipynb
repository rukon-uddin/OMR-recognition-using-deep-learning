{
 "cells": [
  {
   "cell_type": "code",
   "execution_count": 6,
   "id": "0207d58b",
   "metadata": {},
   "outputs": [],
   "source": [
    "import tensorflow as tf\n",
    "import numpy as np\n",
    "import cv2\n",
    "import os\n",
    "import pandas as pd\n",
    "from tqdm import tqdm\n",
    "import pickle\n",
    "from tensorflow.keras.preprocessing import image\n",
    "import matplotlib.pyplot as plt\n",
    "from sklearn.model_selection import train_test_split\n",
    "from tensorflow.keras import Model\n",
    "import matplotlib.pyplot as plt"
   ]
  },
  {
   "cell_type": "code",
   "execution_count": 8,
   "id": "2f59ad9d",
   "metadata": {},
   "outputs": [],
   "source": [
    "with open(\"dataset_labels.pkl\", \"rb\")  as f:\n",
    "    data = pickle.load(f)"
   ]
  },
  {
   "cell_type": "code",
   "execution_count": 9,
   "id": "a8403a7c",
   "metadata": {
    "scrolled": true
   },
   "outputs": [],
   "source": [
    "train_path = \"dataset/train\"\n",
    "val_path  = \"dataset/val\"\n",
    "\n",
    "train_labels = {}\n",
    "val_labels = {}\n",
    "for p in os.listdir(train_path):\n",
    "    train_labels[p] = data[p]\n",
    "    \n",
    "for p in os.listdir(val_path):\n",
    "    val_labels[p] = data[p]"
   ]
  },
  {
   "cell_type": "code",
   "execution_count": 10,
   "id": "2d0a0c41",
   "metadata": {},
   "outputs": [],
   "source": [
    "column = []\n",
    "idx = {}\n",
    "char = [\"A\", \"B\", \"C\", \"D\"]\n",
    "l = 2\n",
    "column.append(\"id\")\n",
    "column.append(\"label\")\n",
    "for i in range(50):\n",
    "    for j in range(4):\n",
    "        s = str(i+1)+str(char[j])\n",
    "        idx[s] = l\n",
    "        l+=1\n",
    "        column.append(s)    "
   ]
  },
  {
   "cell_type": "code",
   "execution_count": 6,
   "id": "1b1bda92",
   "metadata": {},
   "outputs": [
    {
     "data": {
      "text/plain": [
       "(202,)"
      ]
     },
     "execution_count": 6,
     "metadata": {},
     "output_type": "execute_result"
    }
   ],
   "source": [
    "column = np.array(column)\n",
    "column.shape"
   ]
  },
  {
   "cell_type": "code",
   "execution_count": 11,
   "id": "03f193d7",
   "metadata": {},
   "outputs": [
    {
     "name": "stdout",
     "output_type": "stream",
     "text": [
      "['', [], 0, 0, 0, 0, 0, 0, 0, 0, 0, 0, 0, 0, 0, 0, 0, 0, 0, 0, 0, 0, 0, 0, 0, 0, 0, 0, 0, 0, 0, 0, 0, 0, 0, 0, 0, 0, 0, 0, 0, 0, 0, 0, 0, 0, 0, 0, 0, 0, 0, 0, 0, 0, 0, 0, 0, 0, 0, 0, 0, 0, 0, 0, 0, 0, 0, 0, 0, 0, 0, 0, 0, 0, 0, 0, 0, 0, 0, 0, 0, 0, 0, 0, 0, 0, 0, 0, 0, 0, 0, 0, 0, 0, 0, 0, 0, 0, 0, 0, 0, 0, 0, 0, 0, 0, 0, 0, 0, 0, 0, 0, 0, 0, 0, 0, 0, 0, 0, 0, 0, 0, 0, 0, 0, 0, 0, 0, 0, 0, 0, 0, 0, 0, 0, 0, 0, 0, 0, 0, 0, 0, 0, 0, 0, 0, 0, 0, 0, 0, 0, 0, 0, 0, 0, 0, 0, 0, 0, 0, 0, 0, 0, 0, 0, 0, 0, 0, 0, 0, 0, 0, 0, 0, 0, 0, 0, 0, 0, 0, 0, 0, 0, 0, 0, 0, 0, 0, 0, 0, 0, 0, 0, 0, 0, 0, 0, 0, 0, 0, 0, 0]\n"
     ]
    }
   ],
   "source": [
    "arr = [\"\", []]\n",
    "for _ in range(200):\n",
    "    arr.append(0)\n",
    "print(arr)"
   ]
  },
  {
   "cell_type": "markdown",
   "id": "844140eb",
   "metadata": {},
   "source": [
    "d = []\n",
    "cr = [\"A\", \"B\", \"C\", \"D\"]\n",
    "for image_id, label in tqdm(val_labels.items()):\n",
    "#     print(image_id, label)\n",
    "    arr = [\"\", []]\n",
    "    for _ in range(200):\n",
    "        arr.append(0)\n",
    "    k = arr\n",
    "    k[0] = image_id\n",
    "    k[1] = label\n",
    "    c = 1\n",
    "    for i in label:\n",
    "        s = str(c) + cr[i-1]\n",
    "        k[idx[s]] = 1\n",
    "        c+=1\n",
    "    d.append(k)\n",
    "\n",
    "val_dataset = pd.DataFrame(d, columns=column)"
   ]
  },
  {
   "cell_type": "code",
   "execution_count": 12,
   "id": "eb60fc54",
   "metadata": {},
   "outputs": [
    {
     "name": "stderr",
     "output_type": "stream",
     "text": [
      "100%|███████████████████████████████████████████████████████████████████████████| 2510/2510 [00:00<00:00, 16193.65it/s]\n",
      "100%|███████████████████████████████████████████████████████████████████████████| 7490/7490 [00:00<00:00, 15768.57it/s]\n"
     ]
    }
   ],
   "source": [
    "d = []\n",
    "cr = [\"A\", \"B\", \"C\", \"D\"]\n",
    "for image_id, label in tqdm(val_labels.items()):\n",
    "    arr = [\"\", []]\n",
    "    for _ in range(200):\n",
    "        arr.append(0)\n",
    "    k = arr\n",
    "    k[0] = image_id\n",
    "    k[1] = label\n",
    "    c = 1\n",
    "    for i in label:\n",
    "        s = str(c) + cr[i-1]\n",
    "        k[idx[s]] = 1\n",
    "        c+=1\n",
    "    d.append(k)\n",
    "    \n",
    "val_dataset = pd.DataFrame(d, columns=column)\n",
    "    \n",
    "d = []\n",
    "for image_id, label in tqdm(train_labels.items()):\n",
    "    arr = [\"\", []]\n",
    "    for _ in range(200):\n",
    "        arr.append(0)\n",
    "    k = arr\n",
    "    k[0] = image_id\n",
    "    k[1] = label\n",
    "    c = 1\n",
    "    for i in label:\n",
    "        s = str(c) + cr[i-1]\n",
    "        k[idx[s]] = 1\n",
    "        c+=1\n",
    "    d.append(k)\n",
    "    \n",
    "train_dataset = pd.DataFrame(d, columns=column)"
   ]
  },
  {
   "cell_type": "code",
   "execution_count": 13,
   "id": "17883b26",
   "metadata": {},
   "outputs": [
    {
     "data": {
      "text/html": [
       "<div>\n",
       "<style scoped>\n",
       "    .dataframe tbody tr th:only-of-type {\n",
       "        vertical-align: middle;\n",
       "    }\n",
       "\n",
       "    .dataframe tbody tr th {\n",
       "        vertical-align: top;\n",
       "    }\n",
       "\n",
       "    .dataframe thead th {\n",
       "        text-align: right;\n",
       "    }\n",
       "</style>\n",
       "<table border=\"1\" class=\"dataframe\">\n",
       "  <thead>\n",
       "    <tr style=\"text-align: right;\">\n",
       "      <th></th>\n",
       "      <th>id</th>\n",
       "      <th>label</th>\n",
       "      <th>1A</th>\n",
       "      <th>1B</th>\n",
       "      <th>1C</th>\n",
       "      <th>1D</th>\n",
       "      <th>2A</th>\n",
       "      <th>2B</th>\n",
       "      <th>2C</th>\n",
       "      <th>2D</th>\n",
       "      <th>...</th>\n",
       "      <th>48C</th>\n",
       "      <th>48D</th>\n",
       "      <th>49A</th>\n",
       "      <th>49B</th>\n",
       "      <th>49C</th>\n",
       "      <th>49D</th>\n",
       "      <th>50A</th>\n",
       "      <th>50B</th>\n",
       "      <th>50C</th>\n",
       "      <th>50D</th>\n",
       "    </tr>\n",
       "  </thead>\n",
       "  <tbody>\n",
       "    <tr>\n",
       "      <th>0</th>\n",
       "      <td>2510.png</td>\n",
       "      <td>[3, 3, 4, 4, 3, 4, 3, 1, 3, 3, 4, 3, 3, 2, 3, ...</td>\n",
       "      <td>0</td>\n",
       "      <td>0</td>\n",
       "      <td>1</td>\n",
       "      <td>0</td>\n",
       "      <td>0</td>\n",
       "      <td>0</td>\n",
       "      <td>1</td>\n",
       "      <td>0</td>\n",
       "      <td>...</td>\n",
       "      <td>0</td>\n",
       "      <td>0</td>\n",
       "      <td>0</td>\n",
       "      <td>1</td>\n",
       "      <td>0</td>\n",
       "      <td>0</td>\n",
       "      <td>0</td>\n",
       "      <td>1</td>\n",
       "      <td>0</td>\n",
       "      <td>0</td>\n",
       "    </tr>\n",
       "    <tr>\n",
       "      <th>1</th>\n",
       "      <td>2511.png</td>\n",
       "      <td>[1, 2, 2, 2, 4, 4, 1, 4, 1, 4, 4, 4, 1, 4, 4, ...</td>\n",
       "      <td>1</td>\n",
       "      <td>0</td>\n",
       "      <td>0</td>\n",
       "      <td>0</td>\n",
       "      <td>0</td>\n",
       "      <td>1</td>\n",
       "      <td>0</td>\n",
       "      <td>0</td>\n",
       "      <td>...</td>\n",
       "      <td>1</td>\n",
       "      <td>0</td>\n",
       "      <td>0</td>\n",
       "      <td>0</td>\n",
       "      <td>1</td>\n",
       "      <td>0</td>\n",
       "      <td>0</td>\n",
       "      <td>1</td>\n",
       "      <td>0</td>\n",
       "      <td>0</td>\n",
       "    </tr>\n",
       "    <tr>\n",
       "      <th>2</th>\n",
       "      <td>2512.png</td>\n",
       "      <td>[4, 4, 3, 2, 4, 2, 3, 1, 4, 2, 4, 2, 3, 2, 4, ...</td>\n",
       "      <td>0</td>\n",
       "      <td>0</td>\n",
       "      <td>0</td>\n",
       "      <td>1</td>\n",
       "      <td>0</td>\n",
       "      <td>0</td>\n",
       "      <td>0</td>\n",
       "      <td>1</td>\n",
       "      <td>...</td>\n",
       "      <td>0</td>\n",
       "      <td>1</td>\n",
       "      <td>0</td>\n",
       "      <td>1</td>\n",
       "      <td>0</td>\n",
       "      <td>0</td>\n",
       "      <td>1</td>\n",
       "      <td>0</td>\n",
       "      <td>0</td>\n",
       "      <td>0</td>\n",
       "    </tr>\n",
       "    <tr>\n",
       "      <th>3</th>\n",
       "      <td>2513.png</td>\n",
       "      <td>[1, 1, 3, 2, 1, 4, 1, 4, 4, 1, 2, 4, 4, 1, 3, ...</td>\n",
       "      <td>1</td>\n",
       "      <td>0</td>\n",
       "      <td>0</td>\n",
       "      <td>0</td>\n",
       "      <td>1</td>\n",
       "      <td>0</td>\n",
       "      <td>0</td>\n",
       "      <td>0</td>\n",
       "      <td>...</td>\n",
       "      <td>0</td>\n",
       "      <td>0</td>\n",
       "      <td>0</td>\n",
       "      <td>1</td>\n",
       "      <td>0</td>\n",
       "      <td>0</td>\n",
       "      <td>0</td>\n",
       "      <td>1</td>\n",
       "      <td>0</td>\n",
       "      <td>0</td>\n",
       "    </tr>\n",
       "    <tr>\n",
       "      <th>4</th>\n",
       "      <td>2514.png</td>\n",
       "      <td>[1, 2, 2, 4, 3, 1, 3, 1, 4, 1, 3, 4, 4, 4, 2, ...</td>\n",
       "      <td>1</td>\n",
       "      <td>0</td>\n",
       "      <td>0</td>\n",
       "      <td>0</td>\n",
       "      <td>0</td>\n",
       "      <td>1</td>\n",
       "      <td>0</td>\n",
       "      <td>0</td>\n",
       "      <td>...</td>\n",
       "      <td>1</td>\n",
       "      <td>0</td>\n",
       "      <td>0</td>\n",
       "      <td>0</td>\n",
       "      <td>1</td>\n",
       "      <td>0</td>\n",
       "      <td>0</td>\n",
       "      <td>1</td>\n",
       "      <td>0</td>\n",
       "      <td>0</td>\n",
       "    </tr>\n",
       "  </tbody>\n",
       "</table>\n",
       "<p>5 rows × 202 columns</p>\n",
       "</div>"
      ],
      "text/plain": [
       "         id                                              label  1A  1B  1C  \\\n",
       "0  2510.png  [3, 3, 4, 4, 3, 4, 3, 1, 3, 3, 4, 3, 3, 2, 3, ...   0   0   1   \n",
       "1  2511.png  [1, 2, 2, 2, 4, 4, 1, 4, 1, 4, 4, 4, 1, 4, 4, ...   1   0   0   \n",
       "2  2512.png  [4, 4, 3, 2, 4, 2, 3, 1, 4, 2, 4, 2, 3, 2, 4, ...   0   0   0   \n",
       "3  2513.png  [1, 1, 3, 2, 1, 4, 1, 4, 4, 1, 2, 4, 4, 1, 3, ...   1   0   0   \n",
       "4  2514.png  [1, 2, 2, 4, 3, 1, 3, 1, 4, 1, 3, 4, 4, 4, 2, ...   1   0   0   \n",
       "\n",
       "   1D  2A  2B  2C  2D  ...  48C  48D  49A  49B  49C  49D  50A  50B  50C  50D  \n",
       "0   0   0   0   1   0  ...    0    0    0    1    0    0    0    1    0    0  \n",
       "1   0   0   1   0   0  ...    1    0    0    0    1    0    0    1    0    0  \n",
       "2   1   0   0   0   1  ...    0    1    0    1    0    0    1    0    0    0  \n",
       "3   0   1   0   0   0  ...    0    0    0    1    0    0    0    1    0    0  \n",
       "4   0   0   1   0   0  ...    1    0    0    0    1    0    0    1    0    0  \n",
       "\n",
       "[5 rows x 202 columns]"
      ]
     },
     "execution_count": 13,
     "metadata": {},
     "output_type": "execute_result"
    }
   ],
   "source": [
    "train_dataset.head()"
   ]
  },
  {
   "cell_type": "code",
   "execution_count": 14,
   "id": "b7eeb75f",
   "metadata": {},
   "outputs": [
    {
     "data": {
      "text/plain": [
       "-1"
      ]
     },
     "execution_count": 14,
     "metadata": {},
     "output_type": "execute_result"
    }
   ],
   "source": [
    "img_width = 200\n",
    "img_height = 100\n",
    "img = cv2.imread(\"dataset/val/0.png\")\n",
    "img = cv2.cvtColor(img, cv2.COLOR_BGR2GRAY)\n",
    "img = cv2.resize(img, (img_width, img_height))\n",
    "cv2.imshow(\"w\", img)\n",
    "cv2.waitKey(0)"
   ]
  },
  {
   "cell_type": "code",
   "execution_count": 7,
   "id": "4d083184",
   "metadata": {},
   "outputs": [
    {
     "name": "stdout",
     "output_type": "stream",
     "text": [
      "Training set getting ready!\n"
     ]
    },
    {
     "ename": "NameError",
     "evalue": "name 'train_dataset' is not defined",
     "output_type": "error",
     "traceback": [
      "\u001b[1;31m---------------------------------------------------------------------------\u001b[0m",
      "\u001b[1;31mNameError\u001b[0m                                 Traceback (most recent call last)",
      "\u001b[1;32m<ipython-input-7-1f027f6ab9fd>\u001b[0m in \u001b[0;36m<module>\u001b[1;34m\u001b[0m\n\u001b[0;32m      4\u001b[0m \u001b[1;33m\u001b[0m\u001b[0m\n\u001b[0;32m      5\u001b[0m \u001b[0mprint\u001b[0m\u001b[1;33m(\u001b[0m\u001b[1;34m\"Training set getting ready!\"\u001b[0m\u001b[1;33m)\u001b[0m\u001b[1;33m\u001b[0m\u001b[1;33m\u001b[0m\u001b[0m\n\u001b[1;32m----> 6\u001b[1;33m \u001b[1;32mfor\u001b[0m \u001b[0mi\u001b[0m \u001b[1;32min\u001b[0m \u001b[0mtqdm\u001b[0m\u001b[1;33m(\u001b[0m\u001b[0mrange\u001b[0m\u001b[1;33m(\u001b[0m\u001b[0mtrain_dataset\u001b[0m\u001b[1;33m.\u001b[0m\u001b[0mshape\u001b[0m\u001b[1;33m[\u001b[0m\u001b[1;36m0\u001b[0m\u001b[1;33m]\u001b[0m\u001b[1;33m)\u001b[0m\u001b[1;33m)\u001b[0m\u001b[1;33m:\u001b[0m\u001b[1;33m\u001b[0m\u001b[1;33m\u001b[0m\u001b[0m\n\u001b[0m\u001b[0;32m      7\u001b[0m     \u001b[0mpath\u001b[0m \u001b[1;33m=\u001b[0m \u001b[1;34m\"dataset/train/\"\u001b[0m\u001b[1;33m+\u001b[0m\u001b[0mtrain_dataset\u001b[0m\u001b[1;33m[\u001b[0m\u001b[1;34m\"id\"\u001b[0m\u001b[1;33m]\u001b[0m\u001b[1;33m[\u001b[0m\u001b[0mi\u001b[0m\u001b[1;33m]\u001b[0m\u001b[1;33m\u001b[0m\u001b[1;33m\u001b[0m\u001b[0m\n\u001b[0;32m      8\u001b[0m \u001b[1;31m#     img = image.load_img(path, target_size=(img_width, img_height))\u001b[0m\u001b[1;33m\u001b[0m\u001b[1;33m\u001b[0m\u001b[1;33m\u001b[0m\u001b[0m\n",
      "\u001b[1;31mNameError\u001b[0m: name 'train_dataset' is not defined"
     ]
    }
   ],
   "source": [
    "img_width = 200\n",
    "img_height = 100\n",
    "train = []\n",
    "\n",
    "print(\"Training set getting ready!\")\n",
    "for i in tqdm(range(train_dataset.shape[0])):\n",
    "    path = \"dataset/train/\"+train_dataset[\"id\"][i]\n",
    "#     img = image.load_img(path, target_size=(img_width, img_height))\n",
    "    img = cv2.imread(path)\n",
    "    img = cv2.cvtColor(img, cv2.COLOR_BGR2GRAY)\n",
    "    img = cv2.resize(img, (img_width, img_height))\n",
    "    cv2.imshow(img)\n",
    "    cv2.waitKey(0)\n",
    "    break\n",
    "    img = img / 255.0\n",
    "    img = tf.expand_dims(img, axis=-1)\n",
    "    train.append(img)\n",
    "    "
   ]
  },
  {
   "cell_type": "code",
   "execution_count": 15,
   "id": "1e965372",
   "metadata": {},
   "outputs": [
    {
     "name": "stderr",
     "output_type": "stream",
     "text": [
      "\r\n",
      "  0%|                                                                                         | 0/7490 [00:00<?, ?it/s]"
     ]
    },
    {
     "name": "stdout",
     "output_type": "stream",
     "text": [
      "Training set getting ready!\n"
     ]
    },
    {
     "name": "stderr",
     "output_type": "stream",
     "text": [
      "100%|█████████████████████████████████████████████████████████████████████████████| 7490/7490 [00:34<00:00, 219.25it/s]\n",
      "  1%|▌                                                                              | 17/2510 [00:00<00:15, 163.08it/s]"
     ]
    },
    {
     "name": "stdout",
     "output_type": "stream",
     "text": [
      "Validation set getting ready!\n"
     ]
    },
    {
     "name": "stderr",
     "output_type": "stream",
     "text": [
      "100%|█████████████████████████████████████████████████████████████████████████████| 2510/2510 [00:15<00:00, 165.78it/s]\n"
     ]
    },
    {
     "name": "stdout",
     "output_type": "stream",
     "text": [
      "(2510, 100, 200, 1)\n",
      "(7490, 100, 200, 1)\n"
     ]
    }
   ],
   "source": [
    "img_width = 200\n",
    "img_height = 100\n",
    "train = []\n",
    "\n",
    "print(\"Training set getting ready!\")\n",
    "for i in tqdm(range(train_dataset.shape[0])):\n",
    "    path = \"dataset/train/\"+train_dataset[\"id\"][i]\n",
    "#     img = image.load_img(path, target_size=(img_width, img_height))\n",
    "    img = cv2.imread(path)\n",
    "    img = cv2.cvtColor(img, cv2.COLOR_BGR2GRAY)\n",
    "    img = cv2.resize(img, (img_width, img_height))\n",
    "    img = img / 255.0\n",
    "    img = tf.expand_dims(img, axis=-1)\n",
    "    train.append(img)\n",
    "    \n",
    "train = np.array(train)\n",
    "\n",
    "\n",
    "print(\"Validation set getting ready!\")\n",
    "val = []\n",
    "\n",
    "for i in tqdm(range(val_dataset.shape[0])):\n",
    "    path = \"dataset/val/\"+val_dataset[\"id\"][i]\n",
    "#     img = image.load_img(path, target_size=(img_width, img_height))\n",
    "#     img = image.img_to_array(img)\n",
    "    img = cv2.imread(path)\n",
    "    img = cv2.cvtColor(img, cv2.COLOR_BGR2GRAY)\n",
    "    img = cv2.resize(img, (img_width, img_height))\n",
    "    img = img / 255.0\n",
    "#     img = np.expand_dims(img, axis = 1)\n",
    "    img = tf.expand_dims(img, axis=-1)\n",
    "    val.append(img)\n",
    "    \n",
    "val = np.array(val)\n",
    "\n",
    "print(val.shape)\n",
    "print(train.shape)"
   ]
  },
  {
   "cell_type": "code",
   "execution_count": null,
   "id": "0b83cd08",
   "metadata": {},
   "outputs": [],
   "source": [
    "train[0].shape"
   ]
  },
  {
   "cell_type": "code",
   "execution_count": 16,
   "id": "37ca8d44",
   "metadata": {},
   "outputs": [
    {
     "name": "stdout",
     "output_type": "stream",
     "text": [
      "(7490, 200)\n",
      "(2510, 200)\n"
     ]
    }
   ],
   "source": [
    "train_y = train_dataset.drop(['id', 'label'], axis = 1)\n",
    "train_y = train_y.to_numpy()\n",
    "print(train_y.shape)\n",
    "\n",
    "val_y = val_dataset.drop(['id', 'label'], axis = 1)\n",
    "val_y = val_y.to_numpy()\n",
    "print(val_y.shape)"
   ]
  },
  {
   "cell_type": "code",
   "execution_count": 17,
   "id": "5332d89c",
   "metadata": {},
   "outputs": [],
   "source": [
    "dataset = {\"train_x\":train, \"train_y\":train_y, \"val_x\":val, \"val_y\":val_y}"
   ]
  },
  {
   "cell_type": "code",
   "execution_count": 18,
   "id": "8af7b9d9",
   "metadata": {},
   "outputs": [],
   "source": [
    "with open(\"master_dataset.pkl\", \"wb\") as file:\n",
    "    pickle.dump(dataset, file)"
   ]
  },
  {
   "cell_type": "code",
   "execution_count": 3,
   "id": "94c6b3eb",
   "metadata": {},
   "outputs": [],
   "source": [
    "with open(\"master_dataset.pkl\", \"rb\") as file:\n",
    "    dataset = pickle.load(file)"
   ]
  },
  {
   "cell_type": "code",
   "execution_count": 4,
   "id": "ae83066c",
   "metadata": {},
   "outputs": [],
   "source": [
    "train_x, train_y, val_x, val_y = dataset[\"train_x\"], dataset[\"train_y\"], dataset[\"val_x\"], dataset[\"val_y\"]"
   ]
  },
  {
   "cell_type": "code",
   "execution_count": 5,
   "id": "3d3ced6a",
   "metadata": {},
   "outputs": [
    {
     "name": "stdout",
     "output_type": "stream",
     "text": [
      "(7490, 100, 200, 1)\n",
      "(7490, 200)\n",
      "(2510, 100, 200, 1)\n",
      "(2510, 200)\n"
     ]
    }
   ],
   "source": [
    "print(train_x.shape)\n",
    "print(train_y.shape)\n",
    "print(val_x.shape)\n",
    "print(val_y.shape)"
   ]
  },
  {
   "cell_type": "code",
   "execution_count": 6,
   "id": "6c7635cb",
   "metadata": {},
   "outputs": [
    {
     "data": {
      "text/plain": [
       "(100, 200, 1)"
      ]
     },
     "execution_count": 6,
     "metadata": {},
     "output_type": "execute_result"
    }
   ],
   "source": [
    "train_x[0].shape"
   ]
  },
  {
   "cell_type": "code",
   "execution_count": 7,
   "id": "e24c6bf9",
   "metadata": {},
   "outputs": [
    {
     "name": "stdout",
     "output_type": "stream",
     "text": [
      "Model: \"sequential\"\n",
      "_________________________________________________________________\n",
      "Layer (type)                 Output Shape              Param #   \n",
      "=================================================================\n",
      "conv2d (Conv2D)              (None, 98, 198, 32)       320       \n",
      "_________________________________________________________________\n",
      "batch_normalization (BatchNo (None, 98, 198, 32)       128       \n",
      "_________________________________________________________________\n",
      "max_pooling2d (MaxPooling2D) (None, 49, 99, 32)        0         \n",
      "_________________________________________________________________\n",
      "dropout (Dropout)            (None, 49, 99, 32)        0         \n",
      "_________________________________________________________________\n",
      "conv2d_1 (Conv2D)            (None, 47, 97, 64)        18496     \n",
      "_________________________________________________________________\n",
      "batch_normalization_1 (Batch (None, 47, 97, 64)        256       \n",
      "_________________________________________________________________\n",
      "max_pooling2d_1 (MaxPooling2 (None, 23, 48, 64)        0         \n",
      "_________________________________________________________________\n",
      "dropout_1 (Dropout)          (None, 23, 48, 64)        0         \n",
      "_________________________________________________________________\n",
      "conv2d_2 (Conv2D)            (None, 21, 46, 256)       147712    \n",
      "_________________________________________________________________\n",
      "batch_normalization_2 (Batch (None, 21, 46, 256)       1024      \n",
      "_________________________________________________________________\n",
      "dropout_2 (Dropout)          (None, 21, 46, 256)       0         \n",
      "_________________________________________________________________\n",
      "conv2d_3 (Conv2D)            (None, 19, 44, 512)       1180160   \n",
      "_________________________________________________________________\n",
      "batch_normalization_3 (Batch (None, 19, 44, 512)       2048      \n",
      "_________________________________________________________________\n",
      "max_pooling2d_2 (MaxPooling2 (None, 9, 22, 512)        0         \n",
      "_________________________________________________________________\n",
      "dropout_3 (Dropout)          (None, 9, 22, 512)        0         \n",
      "_________________________________________________________________\n",
      "conv2d_4 (Conv2D)            (None, 7, 20, 1024)       4719616   \n",
      "_________________________________________________________________\n",
      "batch_normalization_4 (Batch (None, 7, 20, 1024)       4096      \n",
      "_________________________________________________________________\n",
      "max_pooling2d_3 (MaxPooling2 (None, 3, 10, 1024)       0         \n",
      "_________________________________________________________________\n",
      "dropout_4 (Dropout)          (None, 3, 10, 1024)       0         \n",
      "_________________________________________________________________\n",
      "flatten (Flatten)            (None, 30720)             0         \n",
      "_________________________________________________________________\n",
      "dense (Dense)                (None, 128)               3932288   \n",
      "_________________________________________________________________\n",
      "dropout_5 (Dropout)          (None, 128)               0         \n",
      "_________________________________________________________________\n",
      "dense_1 (Dense)              (None, 128)               16512     \n",
      "_________________________________________________________________\n",
      "dropout_6 (Dropout)          (None, 128)               0         \n",
      "_________________________________________________________________\n",
      "dense_2 (Dense)              (None, 200)               25800     \n",
      "=================================================================\n",
      "Total params: 10,048,456\n",
      "Trainable params: 10,044,680\n",
      "Non-trainable params: 3,776\n",
      "_________________________________________________________________\n"
     ]
    }
   ],
   "source": [
    "model = tf.keras.Sequential([\n",
    "    tf.keras.layers.Conv2D(32, 3, activation = 'relu', input_shape = train_x[0].shape),\n",
    "    tf.keras.layers.BatchNormalization(),\n",
    "    tf.keras.layers.MaxPool2D(2),\n",
    "    tf.keras.layers.Dropout(0.3),\n",
    "    \n",
    "    tf.keras.layers.Conv2D(64, 3, activation = 'relu'),\n",
    "    tf.keras.layers.BatchNormalization(),\n",
    "    tf.keras.layers.MaxPool2D(2),\n",
    "    tf.keras.layers.Dropout(0.3),\n",
    "    \n",
    "    tf.keras.layers.Conv2D(256, 3, activation = 'relu'),\n",
    "    tf.keras.layers.BatchNormalization(),\n",
    "    tf.keras.layers.Dropout(0.5),\n",
    "    \n",
    "    tf.keras.layers.Conv2D(512, 3, activation = 'relu'),\n",
    "    tf.keras.layers.BatchNormalization(),\n",
    "    tf.keras.layers.MaxPool2D(2),\n",
    "    tf.keras.layers.Dropout(0.6),\n",
    "    \n",
    "    tf.keras.layers.Conv2D(1024, 3, activation = 'relu'),\n",
    "    tf.keras.layers.BatchNormalization(),\n",
    "    tf.keras.layers.MaxPool2D(2),\n",
    "    tf.keras.layers.Dropout(0.6),\n",
    "    \n",
    "    tf.keras.layers.Flatten(),\n",
    "    tf.keras.layers.Dense(128, activation = 'relu'),\n",
    "    tf.keras.layers.Dropout(0.5),\n",
    "    tf.keras.layers.Dense(128, activation = 'relu'),\n",
    "    tf.keras.layers.Dropout(0.6),\n",
    "    tf.keras.layers.Dense(200, activation = 'sigmoid')\n",
    "])\n",
    "\n",
    "model.summary()"
   ]
  },
  {
   "cell_type": "code",
   "execution_count": 8,
   "id": "c4173e60",
   "metadata": {},
   "outputs": [],
   "source": [
    "optimizer = tf.keras.optimizers.Adam(learning_rate=0.0001)"
   ]
  },
  {
   "cell_type": "code",
   "execution_count": 9,
   "id": "3ebe694e",
   "metadata": {},
   "outputs": [],
   "source": [
    "model.compile(optimizer=\"Adam\", loss=\"binary_crossentropy\", metrics=['accuracy'])"
   ]
  },
  {
   "cell_type": "code",
   "execution_count": null,
   "id": "b1d333e1",
   "metadata": {
    "scrolled": false
   },
   "outputs": [
    {
     "name": "stdout",
     "output_type": "stream",
     "text": [
      "Epoch 1/50\n",
      "3745/3745 [==============================] - 123s 33ms/step - loss: 0.5664 - accuracy: 0.0049 - val_loss: 5.9376 - val_accuracy: 0.0000e+00\n",
      "Epoch 2/50\n",
      "3745/3745 [==============================] - 123s 33ms/step - loss: 0.5645 - accuracy: 0.0036 - val_loss: 6.2130 - val_accuracy: 0.0000e+00\n",
      "Epoch 3/50\n",
      "3745/3745 [==============================] - 122s 32ms/step - loss: 0.5635 - accuracy: 0.0023 - val_loss: 6.3915 - val_accuracy: 0.0000e+00\n",
      "Epoch 4/50\n",
      "3745/3745 [==============================] - 119s 32ms/step - loss: 0.5630 - accuracy: 0.0000e+00 - val_loss: 6.5866 - val_accuracy: 0.0000e+00\n",
      "Epoch 5/50\n",
      "3745/3745 [==============================] - 116s 31ms/step - loss: 0.5627 - accuracy: 6.6756e-04 - val_loss: 6.6445 - val_accuracy: 0.0000e+00\n",
      "Epoch 6/50\n",
      "3745/3745 [==============================] - 116s 31ms/step - loss: 0.5626 - accuracy: 0.0028 - val_loss: 6.9711 - val_accuracy: 0.0000e+00\n",
      "Epoch 7/50\n",
      "3745/3745 [==============================] - 116s 31ms/step - loss: 0.5625 - accuracy: 0.0000e+00 - val_loss: 7.1194 - val_accuracy: 0.0000e+00\n",
      "Epoch 8/50\n",
      "3745/3745 [==============================] - 116s 31ms/step - loss: 0.5624 - accuracy: 0.0000e+00 - val_loss: 7.2719 - val_accuracy: 0.0000e+00\n",
      "Epoch 9/50\n",
      "3745/3745 [==============================] - 125s 33ms/step - loss: 0.5624 - accuracy: 0.0000e+00 - val_loss: 7.3668 - val_accuracy: 0.0000e+00\n",
      "Epoch 10/50\n",
      "3745/3745 [==============================] - 125s 33ms/step - loss: 0.5624 - accuracy: 0.0000e+00 - val_loss: 7.3371 - val_accuracy: 0.0000e+00\n",
      "Epoch 11/50\n",
      "3745/3745 [==============================] - 122s 33ms/step - loss: 0.5624 - accuracy: 0.0109 - val_loss: 7.3315 - val_accuracy: 0.0000e+00\n",
      "Epoch 12/50\n",
      "3745/3745 [==============================] - 123s 33ms/step - loss: 0.5624 - accuracy: 0.0000e+00 - val_loss: 7.3329 - val_accuracy: 0.0000e+00\n",
      "Epoch 13/50\n",
      "3745/3745 [==============================] - 120s 32ms/step - loss: 0.5624 - accuracy: 0.0000e+00 - val_loss: 7.2956 - val_accuracy: 0.0000e+00\n",
      "Epoch 14/50\n",
      "3745/3745 [==============================] - 121s 32ms/step - loss: 0.5624 - accuracy: 0.0076 - val_loss: 7.3771 - val_accuracy: 0.0000e+00\n",
      "Epoch 15/50\n",
      "3745/3745 [==============================] - 119s 32ms/step - loss: 0.5624 - accuracy: 0.0000e+00 - val_loss: 7.3272 - val_accuracy: 0.0000e+00\n",
      "Epoch 16/50\n",
      "3745/3745 [==============================] - 122s 33ms/step - loss: 0.5624 - accuracy: 0.0000e+00 - val_loss: 7.2436 - val_accuracy: 0.0000e+00\n",
      "Epoch 17/50\n",
      "3745/3745 [==============================] - 122s 33ms/step - loss: 0.5624 - accuracy: 0.0000e+00 - val_loss: 7.2949 - val_accuracy: 0.0000e+00\n",
      "Epoch 18/50\n",
      "3745/3745 [==============================] - 121s 32ms/step - loss: 0.5624 - accuracy: 0.0000e+00 - val_loss: 7.3292 - val_accuracy: 0.0000e+00\n",
      "Epoch 19/50\n",
      "3745/3745 [==============================] - 122s 33ms/step - loss: 0.5624 - accuracy: 0.0000e+00 - val_loss: 7.3517 - val_accuracy: 0.0000e+00\n",
      "Epoch 20/50\n",
      "3745/3745 [==============================] - 125s 33ms/step - loss: 0.5624 - accuracy: 0.0091 - val_loss: 7.3177 - val_accuracy: 0.0000e+00\n",
      "Epoch 21/50\n",
      "3745/3745 [==============================] - 120s 32ms/step - loss: 0.5624 - accuracy: 0.0000e+00 - val_loss: 7.3410 - val_accuracy: 0.0000e+00\n",
      "Epoch 22/50\n",
      "1009/3745 [=======>......................] - ETA: 1:25 - loss: 0.5624 - accuracy: 0.0000e+00"
     ]
    }
   ],
   "source": [
    "model.fit(train_x, train_y, batch_size=2, epochs=50, validation_data=(val_x, val_y))"
   ]
  },
  {
   "cell_type": "code",
   "execution_count": null,
   "id": "2b467e7b",
   "metadata": {},
   "outputs": [],
   "source": [
    "columns = train_dataset.columns\n",
    "columns = np.array(columns)\n",
    "columns.shape"
   ]
  },
  {
   "cell_type": "code",
   "execution_count": null,
   "id": "72dfd063",
   "metadata": {},
   "outputs": [],
   "source": [
    "img_width = 150\n",
    "img_height = 150\n",
    "img = cv2.imread(\"dataset/val/620.png\")\n",
    "copy_image = img.copy()\n",
    "img = cv2.cvtColor(img, cv2.COLOR_BGR2GRAY)\n",
    "img = cv2.resize(img, (img_width, img_height))\n",
    "img = img / 255.0\n",
    "\n",
    "#     img = np.expand_dims(img, axis = 1)\n",
    "img = tf.expand_dims(img, axis=-1)\n",
    "img = np.expand_dims(img, axis = 0)\n",
    "proba = model.predict(img)\n",
    "proba = np.array(proba)\n",
    "top_5 = np.argsort(proba[0])[:-6:-1]\n",
    "print(top_5)\n",
    "for i in range(1):\n",
    "    k = sorted(columns[top_5 + 2])\n",
    "    print(k, proba[0][top_5])\n",
    "plt.imshow(copy_image)"
   ]
  },
  {
   "cell_type": "code",
   "execution_count": null,
   "id": "131d7af1",
   "metadata": {},
   "outputs": [],
   "source": []
  },
  {
   "cell_type": "code",
   "execution_count": null,
   "id": "0043ffdb",
   "metadata": {},
   "outputs": [],
   "source": [
    "img = cv2.imread(\"dataset/train/2400.png\")\n",
    "img = cv2.resize(img, (150,150))\n",
    "img = cv2.cvtColor(img, cv2.COLOR_BGR2GRAY)\n",
    "img = img / 255.0\n",
    "img = tf.expand_dims(img, axis = 0)"
   ]
  },
  {
   "cell_type": "code",
   "execution_count": null,
   "id": "8b9bc9a9",
   "metadata": {},
   "outputs": [],
   "source": [
    "for layer in model.layers:\n",
    "    if 'conv' not in layer.name:\n",
    "        continue\n",
    "    print(layer.name, layer.output.shape)"
   ]
  },
  {
   "cell_type": "code",
   "execution_count": null,
   "id": "1abc387d",
   "metadata": {},
   "outputs": [],
   "source": [
    "model_first_conv = Model(inputs = model.inputs, outputs = model.layers[3].output)\n",
    "feature_maps = model_first_conv.predict(img)\n",
    "fig,ax = plt.subplots(2,8,figsize=(20,20))\n",
    "ix = 0\n",
    "for i in range(2):\n",
    "    for j in range(8):\n",
    "        img = feature_maps[0, :, :, ix]\n",
    "        ax[i,j].set_xticklabels([])\n",
    "        ax[i,j].set_yticklabels([])\n",
    "        ax[i,j].set_aspect('equal')\n",
    "        ax[i,j].imshow(img, cmap = \"gray\")\n",
    "#         ax[i,j].get_xaxis().set_visible(False)\n",
    "#         ax[i,j].get_yaxis().set_visible(False)\n",
    "#         ax[i,j].\n",
    "        ix+=1"
   ]
  },
  {
   "cell_type": "code",
   "execution_count": null,
   "id": "2933a565",
   "metadata": {},
   "outputs": [],
   "source": [
    "resnet = tf.keras.applications.resnet50.ResNet50(weights= None, include_top=False, input_shape= train_x[0].shape)\n",
    "from tensorflow.keras.layers import GlobalAveragePooling2D, Dropout\n",
    "from tensorflow.keras import Model\n",
    "x = resnet.output\n",
    "x = GlobalAveragePooling2D()(x)\n",
    "x = Dropout(0.7)(x)\n",
    "predictions = Dense(200, activation= 'sigmoid')(x)\n",
    "model = Model(inputs = resnet.input, outputs = predictions)\n",
    "model.compile(optimizer='Adam', loss = 'binary_crossentropy')"
   ]
  },
  {
   "cell_type": "code",
   "execution_count": null,
   "id": "1d497013",
   "metadata": {},
   "outputs": [],
   "source": [
    "model.fit(train_x, train_y, epochs = 50, validation_data=(val_x, val_y))"
   ]
  },
  {
   "cell_type": "code",
   "execution_count": 3,
   "id": "7bd967d5",
   "metadata": {},
   "outputs": [],
   "source": [
    "model = tf.keras.models.load_model(\"resnet_35Epoch\")"
   ]
  },
  {
   "cell_type": "code",
   "execution_count": 4,
   "id": "d2d6f7d9",
   "metadata": {},
   "outputs": [],
   "source": [
    "column = []\n",
    "idx = {}\n",
    "char = [\"A\", \"B\", \"C\", \"D\"]\n",
    "l = 2\n",
    "column.append(\"id\")\n",
    "column.append(\"label\")\n",
    "for i in range(50):\n",
    "    for j in range(4):\n",
    "        s = str(i+1)+str(char[j])\n",
    "        idx[s] = l\n",
    "        l+=1\n",
    "        column.append(s)    "
   ]
  },
  {
   "cell_type": "code",
   "execution_count": 5,
   "id": "bf82fb2b",
   "metadata": {},
   "outputs": [],
   "source": [
    "idx_inv = {}\n",
    "for k, v in idx.items():\n",
    "    idx_inv[v] = k"
   ]
  },
  {
   "cell_type": "code",
   "execution_count": 7,
   "id": "3fcd62f2",
   "metadata": {},
   "outputs": [
    {
     "name": "stdout",
     "output_type": "stream",
     "text": [
      "2 1C\n",
      "4 2A\n",
      "10 3C\n",
      "13 4B\n",
      "16 5A\n",
      "22 6C\n",
      "25 7B\n",
      "30 8C\n",
      "33 9B\n",
      "38 10C\n",
      "43 11D\n",
      "45 12B\n",
      "50 13C\n",
      "52 14A\n",
      "58 15C\n",
      "61 16B\n",
      "66 17C\n",
      "71 18D\n",
      "73 19B\n",
      "77 20B\n",
      "82 21C\n",
      "87 22D\n",
      "88 23A\n",
      "95 24D\n",
      "97 25B\n",
      "102 26C\n",
      "106 27C\n",
      "111 28D\n",
      "114 29C\n",
      "119 30D\n",
      "121 31B\n",
      "125 32B\n",
      "131 33D\n",
      "133 34B\n",
      "138 35C\n",
      "140 36A\n",
      "146 37C\n",
      "151 38D\n",
      "154 39C\n",
      "157 40B\n",
      "163 41D\n",
      "165 42B\n",
      "168 43A\n",
      "174 44C\n",
      "178 45C\n",
      "180 46A\n",
      "186 47C\n",
      "189 48B\n",
      "192 49A\n",
      "196 50A\n"
     ]
    },
    {
     "data": {
      "text/plain": [
       "<matplotlib.image.AxesImage at 0x1dce583aa30>"
      ]
     },
     "execution_count": 7,
     "metadata": {},
     "output_type": "execute_result"
    },
    {
     "data": {
      "image/png": "[encoded data removed]",
      "text/plain": [
       "<Figure size 432x288 with 1 Axes>"
      ]
     },
     "metadata": {
      "needs_background": "light"
     },
     "output_type": "display_data"
    }
   ],
   "source": [
    "import cv2\n",
    "img_width = 200\n",
    "img_height = 100\n",
    "img = cv2.imread(\"dataset/val/0.png\")\n",
    "copy_image = img.copy()\n",
    "img = cv2.cvtColor(img, cv2.COLOR_BGR2GRAY)\n",
    "img = cv2.resize(img, (img_width, img_height))\n",
    "img = img / 255.0\n",
    "\n",
    "#     img = np.expand_dims(img, axis = 1)\n",
    "img = tf.expand_dims(img, axis=-1)\n",
    "img = np.expand_dims(img, axis = 0)\n",
    "proba = model.predict(img)\n",
    "proba = np.array(proba)\n",
    "top_5 = np.argsort(proba[0])[:-51:-1]\n",
    "# print(top_5)\n",
    "top_5 = sorted(top_5)\n",
    "idx_inv = {}\n",
    "for k, v in idx.items():\n",
    "    idx_inv[v] = k\n",
    "\n",
    "for i in top_5:\n",
    "    print(i, idx_inv[i+2])\n",
    "\n",
    "plt.imshow(copy_image)"
   ]
  },
  {
   "cell_type": "code",
   "execution_count": null,
   "id": "10b86ee4",
   "metadata": {},
   "outputs": [],
   "source": [
    "\n",
    "# proba[0].shape"
   ]
  },
  {
   "cell_type": "code",
   "execution_count": null,
   "id": "7b4aa903",
   "metadata": {},
   "outputs": [],
   "source": []
  },
  {
   "cell_type": "code",
   "execution_count": null,
   "id": "a4be8362",
   "metadata": {},
   "outputs": [],
   "source": []
  }
 ],
 "metadata": {
  "kernelspec": {
   "display_name": "Python 3",
   "language": "python",
   "name": "python3"
  },
  "language_info": {
   "codemirror_mode": {
    "name": "ipython",
    "version": 3
   },
   "file_extension": ".py",
   "mimetype": "text/x-python",
   "name": "python",
   "nbconvert_exporter": "python",
   "pygments_lexer": "ipython3",
   "version": "3.8.8"
  }
 },
 "nbformat": 4,
 "nbformat_minor": 5
}
