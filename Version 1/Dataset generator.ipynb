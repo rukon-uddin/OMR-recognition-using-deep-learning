{
 "cells": [
  {
   "cell_type": "code",
   "execution_count": 1,
   "id": "38352ae4",
   "metadata": {},
   "outputs": [],
   "source": [
    "import cv2\n",
    "import numpy as np\n",
    "from numpy import random\n",
    "from tqdm import tqdm\n",
    "import pickle"
   ]
  },
  {
   "cell_type": "code",
   "execution_count": null,
   "id": "a594b808",
   "metadata": {},
   "outputs": [],
   "source": [
    "view = np.ones((450, 300))*255"
   ]
  },
  {
   "cell_type": "code",
   "execution_count": 2,
   "id": "e8e6b2bd",
   "metadata": {},
   "outputs": [],
   "source": [
    "def cvShow(v):\n",
    "    cv2.imshow(\"win\", v)\n",
    "    cv2.waitKey(0)"
   ]
  },
  {
   "cell_type": "code",
   "execution_count": null,
   "id": "fb2132ca",
   "metadata": {},
   "outputs": [],
   "source": [
    "rand_numbers = random.randint(4)+1\n",
    "rand_numbers"
   ]
  },
  {
   "cell_type": "markdown",
   "id": "20ba3238",
   "metadata": {},
   "source": [
    "cv2.putText(view, \"A  B  C  D\", (x-6, y-20), cv2.FONT_HERSHEY_COMPLEX_SMALL, 1, (0,0,0))\n",
    "cv2.putText(view, \"{}\".format(sn), (x-40, y+8), cv2.FONT_HERSHEY_COMPLEX_SMALL, 1, (0,0,0))\n",
    "\n",
    "cv2.circle(view, (int(x*c) + r*j, y), r, (0,0,255), -1)\n",
    "cv2.circle(view, (int(x*c) + r*j, y), r, (0,0,255), 2)"
   ]
  },
  {
   "cell_type": "code",
   "execution_count": null,
   "id": "671503ff",
   "metadata": {},
   "outputs": [
    {
     "name": "stderr",
     "output_type": "stream",
     "text": [
      " 69%|████████████████████████████████████████████████████                        | 6851/10000 [00:49<00:22, 141.18it/s]"
     ]
    }
   ],
   "source": [
    "dic = {}\n",
    "\n",
    "for img_name in tqdm(range(10000)):\n",
    "    view = np.ones((500, 1000))*255\n",
    "    start_x, start_y = 50, 100\n",
    "    increment_x, increment_y = 32, 30\n",
    "    r = 10\n",
    "    sn = 1\n",
    "\n",
    "    x_2 = [50, 250, 450, 650, 850]\n",
    "    char = [\"A\", \"B\", \"C\", \"D\"]\n",
    "\n",
    "    cv2.putText(view, \"University Of Liberal Arts Bangladesh\", (start_x-30, start_y-60), cv2.FONT_HERSHEY_COMPLEX_SMALL, 2, (0,0,0))\n",
    "\n",
    "    value = []\n",
    "    for count,ix in enumerate(x_2):\n",
    "        for row_2 in range(2):\n",
    "            for col in range(5):\n",
    "                if col == 0:\n",
    "                    cv2.putText(view, \"A\", (start_x-7, start_y-20), cv2.FONT_HERSHEY_COMPLEX_SMALL, 1, (0,0,0))\n",
    "                    cv2.putText(view, \"B\", (start_x+24, start_y-20), cv2.FONT_HERSHEY_COMPLEX_SMALL, 1, (0,0,0))\n",
    "                    cv2.putText(view, \"C\", (start_x+56, start_y-20), cv2.FONT_HERSHEY_COMPLEX_SMALL, 1, (0,0,0))\n",
    "                    cv2.putText(view, \"D\", (start_x+88, start_y-20), cv2.FONT_HERSHEY_COMPLEX_SMALL, 1, (0,0,0))\n",
    "                color = np.random.randint(4)\n",
    "                for rr in range(4):\n",
    "                    if rr == 0:\n",
    "                        cv2.putText(view, \"{}\".format(sn), (start_x-43, start_y+8), cv2.FONT_HERSHEY_COMPLEX_SMALL, 1, (0,0,0))\n",
    "                        sn+=1\n",
    "\n",
    "                    if rr == color:\n",
    "                        value.append(color+1)\n",
    "                        cv2.circle(view, (start_x, start_y), r, (0,0,0), -1)\n",
    "\n",
    "\n",
    "                    cv2.circle(view, (start_x, start_y), r, (0,0,0), 2)\n",
    "                    cv2.putText(view, \"{}\".format(char[rr]), (start_x-5, start_y+5), cv2.FONT_HERSHEY_PLAIN, 1, (0,0,0))\n",
    "\n",
    "                    start_x += increment_x\n",
    "                start_y+=increment_y\n",
    "                start_x = ix\n",
    "\n",
    "            start_x = ix\n",
    "            start_y += increment_y+20\n",
    "\n",
    "        start_y = 100\n",
    "        if count != len(x_2)-1:\n",
    "            start_x = x_2[count+1]\n",
    "\n",
    "    value = np.array(value)\n",
    "    dic[\"{}.png\".format(img_name)] = value\n",
    "# cvShow(view)\n",
    "    cv2.imwrite(\"dataset/{}.png\".format(img_name), view)"
   ]
  },
  {
   "cell_type": "code",
   "execution_count": 21,
   "id": "ccc809a1",
   "metadata": {},
   "outputs": [
    {
     "data": {
      "text/plain": [
       "array([3, 1, 1, 3, 3, 2, 4, 2, 4, 2, 1, 4, 2, 2, 2, 1, 3, 3, 2, 3, 1, 1,\n",
       "       2, 4, 4, 4, 4, 4, 3, 1, 4, 2, 3, 2, 4, 4, 4, 4, 2, 4, 2, 3, 4, 1,\n",
       "       3, 4, 2, 1, 1, 4])"
      ]
     },
     "execution_count": 21,
     "metadata": {},
     "output_type": "execute_result"
    }
   ],
   "source": []
  },
  {
   "cell_type": "code",
   "execution_count": null,
   "id": "7f85f817",
   "metadata": {},
   "outputs": [],
   "source": [
    "dic = {}\n",
    "\n",
    "for k in tqdm(range(1)):\n",
    "    values = []\n",
    "    view = np.ones((400, 340))*255\n",
    "    x, y = 50, 50\n",
    "    r = 30\n",
    "    cnst = (r*2) + 15\n",
    "    for i in range(5):\n",
    "        color_pos = random.randint(4)\n",
    "        values.append(i)\n",
    "        c = 1\n",
    "        for j in range(4):\n",
    "            if j == color_pos:\n",
    "                cv2.circle(view, ((x*c) + r*j, y), r, (0,0,255), -1)\n",
    "            else:\n",
    "                cv2.circle(view, ((x*c) + r*j, y), r, (0,0,255), 2)\n",
    "            c+=1\n",
    "        y = y + cnst\n",
    "    \n",
    "    cv2.imwrite(\"dataset/{}.png\".format(k), view)\n",
    "    dic[\"{}.png\".format(k)] = values\n"
   ]
  },
  {
   "cell_type": "code",
   "execution_count": null,
   "id": "43ed34cc",
   "metadata": {},
   "outputs": [],
   "source": [
    "with open('dataset_labels.pkl', 'wb') as f:\n",
    "    pickle.dump(dic, f)"
   ]
  },
  {
   "cell_type": "code",
   "execution_count": null,
   "id": "12673d72",
   "metadata": {},
   "outputs": [],
   "source": [
    "img = cv2.imread(\"dataset/0.png\")\n",
    "img = cv2.cvtColor(img, cv2.COLOR_BGR2GRAY)"
   ]
  },
  {
   "cell_type": "code",
   "execution_count": null,
   "id": "dd9f1b3d",
   "metadata": {},
   "outputs": [],
   "source": [
    "f = np.vsplit(img,5)\n",
    "for h in f:\n",
    "    v = np.hsplit(h, 4)\n",
    "    for i in v:\n",
    "        print(cv2.countNonZero(i), end = \" \")\n",
    "    print()"
   ]
  },
  {
   "cell_type": "code",
   "execution_count": null,
   "id": "d15b4a72",
   "metadata": {},
   "outputs": [],
   "source": []
  }
 ],
 "metadata": {
  "kernelspec": {
   "display_name": "Python 3",
   "language": "python",
   "name": "python3"
  },
  "language_info": {
   "codemirror_mode": {
    "name": "ipython",
    "version": 3
   },
   "file_extension": ".py",
   "mimetype": "text/x-python",
   "name": "python",
   "nbconvert_exporter": "python",
   "pygments_lexer": "ipython3",
   "version": "3.8.8"
  }
 },
 "nbformat": 4,
 "nbformat_minor": 5
}
